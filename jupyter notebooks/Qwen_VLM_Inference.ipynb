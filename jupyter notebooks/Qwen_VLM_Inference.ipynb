{
  "cells": [
    {
      "cell_type": "markdown",
      "source": [
        "- To do inference within the notebook:\n",
        "    1. Put all images in a directory.\n",
        "    2. In the last cell of the notebook, set the input_folder_vlm variable to the directory where the images are kept.        \n",
        "    3. Set the json_output_folder variable to a directory where the JSON files should be saved. This folder will be create automatically.\n",
        "    4. Set the VLM_BATCH_SIZE according to the available GPU memory. [24GB VRAM can handle batch size of upto 6]\n",
        "    5. Run all the cells in the notebook, the inference will be carried out in the final cell.\n",
        "        1. Ensure the YOLOv5 model has been downloaded. This should be automatically done when you run the code in the ‘Setup Environment’ section of the notebook. If it does not work, then follow the instructions on the notebook and download the YOLO model in the same directory as the notebook.\n",
        "    6. If you want to do inference with the base model (instead of the finetuned model), set the use_finetuned variable in the first cell to False.\n",
        "    7. To speed up inference, you can also disable Chain of Thought in the output by setting cot = False"
      ],
      "metadata": {
        "id": "X9zZtppIVsDo"
      }
    },
    {
      "cell_type": "markdown",
      "source": [
        "# Use Finetuned or Base Model\n",
        "Set the use_finetuned model to True to do infernece using the finetuned model. If it is set to False, inference will be done using the base model of Qwen."
      ],
      "metadata": {
        "id": "4e6FCM-vzStY"
      }
    },
    {
      "cell_type": "code",
      "source": [
        "use_finetuned = False\n",
        "cot = False"
      ],
      "metadata": {
        "id": "lUWvLlttzRB6"
      },
      "execution_count": null,
      "outputs": []
    },
    {
      "cell_type": "markdown",
      "source": [
        "# Setup Environment"
      ],
      "metadata": {
        "id": "K6U1Kf0NuPv4"
      }
    },
    {
      "cell_type": "code",
      "source": [
        "#this will install the required libraries. If you are not using Google Colab, additional libraries may need to be installed, specially pytorch and tranformers.\n",
        "!pip install -q accelerate qwen-vl-utils seaborn bitsandbytes pyyaml ultralytics hf_xet peft json5"
      ],
      "metadata": {
        "id": "CW4Ed8L6uN4r"
      },
      "execution_count": null,
      "outputs": []
    },
    {
      "cell_type": "code",
      "source": [
        "#these lines will ignore any unnecessary warnings, keeping our workspace clean\n",
        "import warnings\n",
        "import os\n",
        "warnings.filterwarnings(\"ignore\")"
      ],
      "metadata": {
        "id": "neBYY-MguO4G"
      },
      "execution_count": null,
      "outputs": []
    },
    {
      "cell_type": "code",
      "execution_count": null,
      "metadata": {
        "colab": {
          "base_uri": "https://localhost:8080/"
        },
        "id": "r7ymgla_A9_y",
        "outputId": "5d10aff0-5639-4567-9e04-474a7d11323b"
      },
      "outputs": [
        {
          "output_type": "stream",
          "name": "stdout",
          "text": [
            "/usr/local/lib/python3.11/dist-packages/gdown/__main__.py:140: FutureWarning: Option `--id` was deprecated in version 4.3.1 and will be removed in 5.0. You don't need to pass it anymore to use a file ID.\n",
            "  warnings.warn(\n",
            "Downloading...\n",
            "From: https://drive.google.com/uc?id=17PI4UeX2tDR2YDbWsRdVKFCECR9eYQ4_\n",
            "To: /content/file.zip\n",
            "100% 817k/817k [00:00<00:00, 95.9MB/s]\n",
            "Archive:  file.zip\n",
            "replace input_images/images/28229480.jpg? [y]es, [n]o, [A]ll, [N]one, [r]ename: n\n",
            "replace input_images/images/28308283.jpg? [y]es, [n]o, [A]ll, [N]one, [r]ename: n\n",
            "replace input_images/images/28313905.jpg? [y]es, [n]o, [A]ll, [N]one, [r]ename: n\n",
            "/usr/local/lib/python3.11/dist-packages/gdown/__main__.py:140: FutureWarning: Option `--id` was deprecated in version 4.3.1 and will be removed in 5.0. You don't need to pass it anymore to use a file ID.\n",
            "  warnings.warn(\n",
            "Downloading...\n",
            "From (original): https://drive.google.com/uc?id=1SrbA34-ptAA7Nm92TpCcHMn3lvwh-EKh\n",
            "From (redirected): https://drive.google.com/uc?id=1SrbA34-ptAA7Nm92TpCcHMn3lvwh-EKh&confirm=t&uuid=b51bbf45-9f13-4d6d-9537-93f03c41988b\n",
            "To: /content/best_avc_v5.pt\n",
            "100% 56.9M/56.9M [00:02<00:00, 26.8MB/s]\n"
          ]
        }
      ],
      "source": [
        "#this will download 3 sample images and put them in a folder named \"input_folder\"\n",
        "#the following commands will only work on a linux environment (such as colab)\n",
        "#if you are running locally on windows, please manually put any sample images in a folder and name it 'input_images'\n",
        "!gdown --id 17PI4UeX2tDR2YDbWsRdVKFCECR9eYQ4_ -O file.zip\n",
        "!unzip file.zip -d input_images\n",
        "\n",
        "#the following downloads a yolov5 model to detect vehicles\n",
        "!gdown --id 1SrbA34-ptAA7Nm92TpCcHMn3lvwh-EKh"
      ]
    },
    {
      "cell_type": "markdown",
      "source": [
        "If the above code block doesn't work, you can download the YOLOv5 model from here: https://drive.google.com/file/d/1SrbA34-ptAA7Nm92TpCcHMn3lvwh-EKh/view?usp=drive_link"
      ],
      "metadata": {
        "id": "yT-nULgXz71P"
      }
    },
    {
      "cell_type": "markdown",
      "metadata": {
        "id": "djYUDAtZb8IO"
      },
      "source": [
        "# Imports"
      ]
    },
    {
      "cell_type": "code",
      "execution_count": null,
      "metadata": {
        "id": "CuSOsW_Jby2b"
      },
      "outputs": [],
      "source": [
        "from transformers import Qwen2_5_VLForConditionalGeneration, AutoTokenizer, AutoProcessor\n",
        "from qwen_vl_utils import process_vision_info\n",
        "import torch\n",
        "from IPython.display import Markdown, display\n",
        "import re\n",
        "from peft import PeftModel\n",
        "import json\n",
        "import json5\n",
        "import time\n",
        "from pathlib import Path\n",
        "import cv2\n",
        "from tqdm import tqdm\n",
        "DEVICE = \"cuda\" if torch.cuda.is_available() else \"cpu\""
      ]
    },
    {
      "cell_type": "markdown",
      "metadata": {
        "id": "Jitn3TixcNOB"
      },
      "source": [
        "## JSON Parser\n",
        "JSON objects have a specific syntax that must be followed so that they can be accurately parsed. LLMs may not always output the accurate syntax. The following function is used to ensure the JSON output from the LLM has proper syntax. The function takes the LLM's output and outputs a proper JSON object. We call this function in a later part of the code."
      ]
    },
    {
      "cell_type": "code",
      "execution_count": null,
      "metadata": {
        "id": "M_7sq239cQE_"
      },
      "outputs": [],
      "source": [
        "def normalize_json5(s: str, img_name):\n",
        "    \"\"\"\n",
        "    Strip markdown fences and parse using json5 for lenient JSON parsing.\n",
        "    Returns the Python object on success or None on failure.\n",
        "    \"\"\"\n",
        "    # Remove any ``` or ```json code fences\n",
        "    s = re.sub(r\"```(?:json)?\\s*([\\s\\S]*?)```\", r\"\\1\", s).strip()\n",
        "    try:\n",
        "        return json5.loads(s)\n",
        "    except Exception as e:\n",
        "        print(f\"normalize_json5: failed to parse input as JSON5 for image: {img_name}.\") # MODIFIED\n",
        "        print(\"Error message:\", str(e))\n",
        "        # Optionally log the faulty string:\n",
        "        print(\"Faulty string content:\")\n",
        "        print(s)\n",
        "        # print(f\"Image: {img_name}\") # This was already here, good.\n",
        "        return None"
      ]
    },
    {
      "cell_type": "markdown",
      "metadata": {
        "id": "ptaxQwKScUoC"
      },
      "source": [
        "## Model and Processor\n",
        "We are using the model found in this link: https://huggingface.co/unsloth/Qwen2.5-VL-3B-Instruct-bnb-4bit\n",
        "\n",
        "The original model is from Qwen, but it has been quantized by unsloth using a quantization library called BitsAndBytes\n",
        "\n",
        "![image.png](data:image/png;base64,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)"
      ]
    },
    {
      "cell_type": "code",
      "execution_count": null,
      "metadata": {
        "id": "agsEpVBacA3O",
        "colab": {
          "base_uri": "https://localhost:8080/"
        },
        "outputId": "3d782b6f-9fbd-4352-aa62-d04cd013ea03"
      },
      "outputs": [
        {
          "output_type": "stream",
          "name": "stderr",
          "text": [
            "The image processor of type `Qwen2VLImageProcessor` is now loaded as a fast processor by default, even if the model checkpoint was saved with a slow processor. This is a breaking change and may produce slightly different outputs. To continue using the slow processor, instantiate this class with `use_fast=False`. Note that this behavior will be extended to all models in a future release.\n",
            "You have video processor config saved in `preprocessor.json` file which is deprecated. Video processor configs should be saved in their own `video_preprocessor.json` file. You can rename the file or load and save the processor back which renames it automatically. Loading from `preprocessor.json` will be removed in v5.0.\n"
          ]
        }
      ],
      "source": [
        "#Base (unfine‑tuned) model\n",
        "#we are using a 4-bit quantized version of Qwen 2.5VL 3B\n",
        "#the model id is found from the huggingface model page\n",
        "BASE_MODEL_ID = \"unsloth/Qwen2.5-VL-3B-Instruct-bnb-4bit\"\n",
        "\n",
        "#Downloading and loading the model on the GPU. This will load the original model\n",
        "model = Qwen2_5_VLForConditionalGeneration.from_pretrained(\n",
        "    BASE_MODEL_ID,\n",
        "    device_map=\"cuda\",\n",
        "    torch_dtype=torch.bfloat16\n",
        ")\n",
        "\n",
        "#now we will load the model specific tokenizer. each model has it's own tokenizer\n",
        "min_pixels = 256*28*28\n",
        "max_pixels = 1280*28*28\n",
        "#the min and max pixel values set the upper and lower limits for the resolution of images allowed\n",
        "#any image outside this range will be auto scaled\n",
        "processor = AutoProcessor.from_pretrained(BASE_MODEL_ID, min_pixels=min_pixels, max_pixels=max_pixels)"
      ]
    },
    {
      "cell_type": "code",
      "source": [
        "#Now we will load the LoRA adapters of a finetuned model. This adapters are attached\n",
        "#to the base model we loaded\n",
        "LORA_REPO = \"muqtasid87/qwen2.5-filtered-data-qv-final-push\" #the lora adapters are on huggingface\n",
        "\n",
        "#the following block will only run if you have set use_finetuned = True in the first cell\n",
        "if use_finetuned:\n",
        "  model = PeftModel.from_pretrained(\n",
        "      model,                     # pass base model\n",
        "      LORA_REPO,\n",
        "      is_trainable=False,             # inference only\n",
        "  ).to(DEVICE)"
      ],
      "metadata": {
        "id": "6Aq6E64DI4bM"
      },
      "execution_count": null,
      "outputs": []
    },
    {
      "cell_type": "markdown",
      "metadata": {
        "id": "0B38Y-P4chZV"
      },
      "source": [
        "# System and User Prompts"
      ]
    },
    {
      "cell_type": "code",
      "execution_count": null,
      "metadata": {
        "id": "OR2a83U3crFF"
      },
      "outputs": [],
      "source": [
        "if cot:\n",
        "  system_prompt = \"\"\"\n",
        "  You are a vehicle‑vision expert. Given one image of a single vehicle, you must:\n",
        "  1. Visual Observation & Chain of Thought (CoT): Systematically observe and describe all discernible visual features of the vehicle. Be highly detailed and specific,\n",
        "    focusing on attributes relevant to classification (e.g., body style, number of doors, roofline, ground clearance, wheel/axle count, cargo area, specialized equipment, visible markings).\n",
        "    Explain your step-by-step reasoning process for each classification decision, explicitly linking visual cues to the chosen categories and attributes. Compare all possible categories with the\n",
        "    visual cues.\n",
        "  2. Category Classification: Identify the most appropriate main Category from the Unified Vehicle Taxonomy provided in the user prompt.\n",
        "  3. Subcategory Classification: Identify the most appropriate fine-grained Subcategory under the chosen Category from the Unified Vehicle Taxonomy.\n",
        "    If no specific subcategory is visually discernible or applicable, output \"General\".\n",
        "  4. Attribute Extraction: Count visible wheels, infer the number of axles, and identify specific boolean attributes (Is_taxi, Is_school_bus, Is_emergency_vehicle, License_plate_visible).\n",
        "  5. Output ONLY a JSON object with only the given keys.\n",
        "\n",
        "  Do NOT output any other text.\n",
        "  \"\"\"\n",
        "else:\n",
        "  system_prompt = \"\"\"\n",
        "  You are a vehicle‑vision expert. Given one image of a single vehicle, you must:\n",
        "  1. Category Classification: Identify the most appropriate main Category from the Unified Vehicle Taxonomy provided in the user prompt.\n",
        "  2. Subcategory Classification: Identify the most appropriate fine-grained Subcategory under the chosen Category from the Unified Vehicle Taxonomy.\n",
        "    If no specific subcategory is visually discernible or applicable, output \"General\".\n",
        "  3. Attribute Extraction: Count visible wheels, infer the number of axles, and identify specific boolean attributes (Is_taxi, Is_school_bus, Is_emergency_vehicle, License_plate_visible).\n",
        "  4. Output ONLY a JSON object with only the given keys.\n",
        "\n",
        "  Do NOT output any other text.\n",
        "  \"\"\""
      ]
    },
    {
      "cell_type": "code",
      "execution_count": null,
      "metadata": {
        "id": "Af4UdWmSctNA"
      },
      "outputs": [],
      "source": [
        "if cot:\n",
        "  user_prompt = \"\"\"\n",
        "  Analyze the vehicle in this image and output a structured JSON with fine-grained classification based on the provided Unified Vehicle Taxonomy and visual cues.\n",
        "  Use detailed reasoning steps in 'CoT' to explain your decision. If you are unable to confidently classify the vehicle based on the visual information,\n",
        "  set 'Category' and 'Subcategory' to 'Unclassified'.\n",
        "\n",
        "  **Unified Vehicle Taxonomy:**\n",
        "  1. Unclassified  - vehicle not confidently identifiable\n",
        "      • Used when the vehicle cannot be confidently classified into any defined category based on visual cues (e.g., due to poor image quality, occlusion, or ambiguity, or the vehicle not belonging to any of the given classes).\n",
        "  2. Car – standard passenger vehicles\n",
        "      • Sedan (Low-profile, elongated body with a distinct three-box silhouette: separate sections for engine, cabin, and trunk. Usually has four doors.)\n",
        "      • Hatchback (Compact body with a sloping rear roofline.)\n",
        "      • Coupe (Two-door layout with a short, sloped roof and a sporty, compact profile. Rear passenger space is visually smaller or limited.)\n",
        "      • Convertible (Vehicle with a visibly retractable or absent roof.)\n",
        "      • Sports (Aggressively styled, low-ground-clearance vehicle with wide stance, aerodynamic body lines, large wheels, and often two doors.)\n",
        "  3. SUV – taller chassis, off‑road capability\n",
        "      • Compact_SUV (Small, tall-bodied vehicle with short overhangs, high ground clearance, and rugged cladding. Compact proportions compared to full-size SUVs.)\n",
        "      • Mid‑Size_SUV (Moderate size with tall roofline, bold grille, and larger wheels. Typically appears more muscular than compact variants.)\n",
        "      • Full‑Size_SUV (Large and boxy with a high roofline, prominent grille, wide stance, and often roof rails. Rear often includes large vertical tail lights.)\n",
        "      • Crossover (Curved and car-like silhouette with a taller ride height. Smooth body lines and smaller gaps between wheels and body.)\n",
        "  4. MPV_Small – small multi‑purpose vans\n",
        "      • Compact_MPV (Tall, narrow-bodied vehicle with a short hood and vertical rear end. Often features sliding doors and large glass areas.)\n",
        "      • Minivan (Rounded, spacious-looking body with a long roofline and visibly large side windows. Typically has sliding rear doors.)\n",
        "\n",
        "  5. MPV_Big – large multi‑purpose vans\n",
        "      • Large_MPV (Bulky, tall profile with extended rear overhang and large windows. Wide stance with premium-looking body finishes.)\n",
        "      • 7‑Seater_MPV (Similar to Large_MPV but may show visual hints of interior layout such as larger rear side windows for third-row access.)\n",
        "  6. Pickup_Truck – open cargo bed\n",
        "      • Regular_Cab (Two-door truck with a small cabin and visibly long, open cargo bed. Clear separation between cab and bed.)\n",
        "      • Extended_Cab (Visibly longer cab than regular version, sometimes with small rear doors. Cargo bed is medium length.)\n",
        "      • Crew_Cab (Four full-size doors, full rear seating area, and slightly shorter bed. Balanced length between cabin and cargo area.)\n",
        "  7. Bus – passenger transport\n",
        "      • City_Bus (Long, boxy structure with wide doors (usually two or more), large windows, and low ground clearance.)\n",
        "      • Coach (Sleek and elongated body with high windows, luggage compartments beneath, and a streamlined roofline. long‑distance, luggage bays)\n",
        "      • School_Bus (Boxy, mid-length vehicle with a protruding front nose and high visibility features)\n",
        "  8. Motorcycle – two‑wheeled motor vehicles, slim and small silhoutte, usually single headlights\n",
        "      • Motorbike (standard bike)\n",
        "      • Scooter (step‑through frame)\n",
        "  9. Vans – enclosed cargo/passenger vans\n",
        "      • Cargo_Van (Boxy rear with few or no side windows in the cargo area. Minimal visual separation between cab and cargo body.)\n",
        "      • Passenger_Van (Boxy or slightly curved body with multiple side windows and visible seating rows through windows.)\n",
        "  10. Small_Truck – small 2‑axle commercial\n",
        "      • 2‑Axle_Small (Boxy or cab-over-engine design with visible dual rear wheels. 2 wheels per axles and compact cargo body.)\n",
        "      • 2-Axle_Big - (Larger than 2_Axle_Small, 4 rear wheels usually.)\n",
        "  11. Medium_Truck – medium 3‑axle commercial\n",
        "      • 3‑Axle_Medium (moderate cargo, Larger than 2-axle trucks, often with sleeper cab or larger cargo box. more robust body.)\n",
        "  12. Large_Truck – large 4‑axle commercial\n",
        "      • 4‑Axle_Large (heavy cargo, Very long frame with high ground clearance, extended wheelbase. Heavy-duty build with visible reinforced chassis.)\n",
        "  13. Heavy_Truck – heavy‑duty >5 axles\n",
        "      • 5+_Axle_Heavy (very heavy loads, Extra-long chassis with multiple connected trailer sections or components. highly segmented and reinforced appearance.)\n",
        "  14. Construction_and_Industrial – specialized machinery\n",
        "      • Bulldozer (Heavy tracked vehicle with a wide, flat metal blade at the front. Compact and powerful-looking body.)\n",
        "      • Excavator (Tracked or wheeled vehicle with a long articulated arm ending in a bucket. Rotating cab and counterweight at the rear.)\n",
        "      • Crane (Tall and narrow profile with a boom or arm extending upward or outward. Often mounted on a truck or mobile base.)\n",
        "      • Forklift (Small, compact industrial vehicle with upright forks at the front and a protective overhead cage.)\n",
        "      • Dump_Truck (Large, boxy bed with visible rear hinge and hydraulic lift system. High ground clearance and chunky tires.)\n",
        "      • Mixer (Truck with a large, rotating drum mounted on the rear. Drum is tilted and often striped or textured.)\n",
        "  15. Tanker – liquid cargo trailers\n",
        "      • Fuel_Tanker (Smooth, cylindrical tank mounted on a truck or trailer. Usually has visible valves and side or rear hatches.)\n",
        "      • Chemical_Tanker (Cylindrical tank with additional external piping, valves, and often hazmat signage.)\n",
        "      • Gas_Tanker (Rounded or bullet-shaped tank with extra reinforcement bands. May have insulated or pressurized appearance.)\n",
        "  16. Container – intermodal shipping boxes\n",
        "      • 20ft_Container (Short rectangular metal box with corner fittings. Often marked with codes or shipping logos. Proportions clearly shorter than 40ft variant.)\n",
        "      • 40ft_Container (Longer rectangular metal box with similar structure to 20ft but visually stretched. Usually spans most of a trailer.)\n",
        "  17. Trailer – unpowered cargo carriers\n",
        "      • Flatbed_Trailer (Open, flat platform with no walls or roof.)\n",
        "      • Car_Carrier (Double-decked or angled trailer frame with visible ramps and slots for securing vehicles.)\n",
        "      • Lowboy_Trailer (Trailer with a distinct drop in deck height between the gooseneck and rear wheels. Allows transport of tall equipment.)\n",
        "      • Refrigerator_Trailer (Boxy, fully enclosed trailer with smooth sides and a visible refrigeration unit (often front-mounted).)\n",
        "\n",
        "  **Output JSON keys & descriptors:**\n",
        "      1. **CoT**: Your step-by-step observations of all the details of the vehicle, explicitly linking visual cues to classification decisions. If the vehicle is unclassified, explain why classification was not possible (e.g., \"Image too blurry,\" \"Vehicle heavily obscured\").\n",
        "      2. **Category**: The main vehicle type, chosen from the **Unified Vehicle Taxonomy**. Output \"Unclassified\" if the vehicle cannot be confidently classified.\n",
        "      3. **Subcategory**: The fine-grained vehicle type, chosen from the **Unified Vehicle Taxonomy**. If not applicable or visually discernible, output \"General\". Output \"Unclassified\" if the vehicle cannot be confidently classified.\n",
        "      4. **Number_of_wheels_visible**: An integer count of all wheels clearly visible in the image. Output 0 if the vehicle is Unclassified or no wheels are visible.\n",
        "      5. **Number_of_axles_inferred_from_number_of_wheels**: An integer representing the inferred number of axles based on the visible wheels and vehicle type. For passenger vehicles, 2 wheels visible on one side typically implies 2 axle. For trucks and heavy vehicles, infer axles based on visible wheel sets. Consider dual wheels as a single wheel set for axle inference. Output 0 if the vehicle is Unclassified or axles cannot be inferred.\n",
        "      6. **Is_taxi**: A boolean (true/false). True if clear commercial taxi markings are visible (e.g., rooftop sign, specific livery, visible taxi meter, company logo). False otherwise.\n",
        "      7. **Is_school_bus**: A boolean (true/false). True if the vehicle is clearly identifiable as a school bus (e.g., distinct yellow color, \"SCHOOL BUS\" signage, stop sign arm, specific seating design). False otherwise.\n",
        "      8. **Is_emergency_vehicle**: A boolean (true/false). True if clear emergency vehicle markings are visible (e.g., siren, light bar, official police/ambulance/fire insignia, distinct emergency vehicle colors). False otherwise.\n",
        "      9. **License_plate_visible**: A boolean (true/false). True if a license plate is clearly visible and readable in the image. False otherwise.\n",
        "\n",
        "  JSON OUTPUT FORMAT EXAMPLE:\n",
        "\n",
        "      {\n",
        "        \"CoT\": \"...\",\n",
        "        \"Category\": \"...\",\n",
        "        \"Subcategory\": \"...\",\n",
        "        \"Number_of_wheels_visible\": 0,\n",
        "        \"Number_of_axles_inferred_from_number_of_wheels\": 0,\n",
        "        \"Is_taxi\": false,\n",
        "        \"Is_school_bus\": false,\n",
        "        \"Is_emergency_vehicle\": false,\n",
        "        \"License_plate_visible\": false\n",
        "      }\n",
        "\n",
        "  \"\"\"\n",
        "else:\n",
        "  user_prompt = \"\"\"\n",
        "  Analyze the vehicle in this image and output a structured JSON with fine-grained classification based on the provided Unified Vehicle Taxonomy and visual cues.\n",
        "  If you are unable to confidently classify the vehicle based on the visual information,\n",
        "  set 'Category' and 'Subcategory' to 'Unclassified'.\n",
        "\n",
        "  **Unified Vehicle Taxonomy:**\n",
        "  1. Unclassified  - vehicle not confidently identifiable\n",
        "      • Used when the vehicle cannot be confidently classified into any defined category based on visual cues (e.g., due to poor image quality, occlusion, or ambiguity, or the vehicle not belonging to any of the given classes).\n",
        "  2. Car – standard passenger vehicles\n",
        "      • Sedan (Low-profile, elongated body with a distinct three-box silhouette: separate sections for engine, cabin, and trunk. Usually has four doors.)\n",
        "      • Hatchback (Compact body with a sloping rear roofline.)\n",
        "      • Coupe (Two-door layout with a short, sloped roof and a sporty, compact profile. Rear passenger space is visually smaller or limited.)\n",
        "      • Convertible (Vehicle with a visibly retractable or absent roof.)\n",
        "      • Sports (Aggressively styled, low-ground-clearance vehicle with wide stance, aerodynamic body lines, large wheels, and often two doors.)\n",
        "  3. SUV – taller chassis, off‑road capability\n",
        "      • Compact_SUV (Small, tall-bodied vehicle with short overhangs, high ground clearance, and rugged cladding. Compact proportions compared to full-size SUVs.)\n",
        "      • Mid‑Size_SUV (Moderate size with tall roofline, bold grille, and larger wheels. Typically appears more muscular than compact variants.)\n",
        "      • Full‑Size_SUV (Large and boxy with a high roofline, prominent grille, wide stance, and often roof rails. Rear often includes large vertical tail lights.)\n",
        "      • Crossover (Curved and car-like silhouette with a taller ride height. Smooth body lines and smaller gaps between wheels and body.)\n",
        "  4. MPV_Small – small multi‑purpose vans\n",
        "      • Compact_MPV (Tall, narrow-bodied vehicle with a short hood and vertical rear end. Often features sliding doors and large glass areas.)\n",
        "      • Minivan (Rounded, spacious-looking body with a long roofline and visibly large side windows. Typically has sliding rear doors.)\n",
        "\n",
        "  5. MPV_Big – large multi‑purpose vans\n",
        "      • Large_MPV (Bulky, tall profile with extended rear overhang and large windows. Wide stance with premium-looking body finishes.)\n",
        "      • 7‑Seater_MPV (Similar to Large_MPV but may show visual hints of interior layout such as larger rear side windows for third-row access.)\n",
        "  6. Pickup_Truck – open cargo bed\n",
        "      • Regular_Cab (Two-door truck with a small cabin and visibly long, open cargo bed. Clear separation between cab and bed.)\n",
        "      • Extended_Cab (Visibly longer cab than regular version, sometimes with small rear doors. Cargo bed is medium length.)\n",
        "      • Crew_Cab (Four full-size doors, full rear seating area, and slightly shorter bed. Balanced length between cabin and cargo area.)\n",
        "  7. Bus – passenger transport\n",
        "      • City_Bus (Long, boxy structure with wide doors (usually two or more), large windows, and low ground clearance.)\n",
        "      • Coach (Sleek and elongated body with high windows, luggage compartments beneath, and a streamlined roofline. long‑distance, luggage bays)\n",
        "      • School_Bus (Boxy, mid-length vehicle with a protruding front nose and high visibility features)\n",
        "  8. Motorcycle – two‑wheeled motor vehicles, slim and small silhoutte, usually single headlights\n",
        "      • Motorbike (standard bike)\n",
        "      • Scooter (step‑through frame)\n",
        "  9. Vans – enclosed cargo/passenger vans\n",
        "      • Cargo_Van (Boxy rear with few or no side windows in the cargo area. Minimal visual separation between cab and cargo body.)\n",
        "      • Passenger_Van (Boxy or slightly curved body with multiple side windows and visible seating rows through windows.)\n",
        "  10. Small_Truck – small 2‑axle commercial\n",
        "      • 2‑Axle_Small (Boxy or cab-over-engine design with visible dual rear wheels. 2 wheels per axles and compact cargo body.)\n",
        "      • 2-Axle_Big - (Larger than 2_Axle_Small, 4 rear wheels usually.)\n",
        "  11. Medium_Truck – medium 3‑axle commercial\n",
        "      • 3‑Axle_Medium (moderate cargo, Larger than 2-axle trucks, often with sleeper cab or larger cargo box. more robust body.)\n",
        "  12. Large_Truck – large 4‑axle commercial\n",
        "      • 4‑Axle_Large (heavy cargo, Very long frame with high ground clearance, extended wheelbase. Heavy-duty build with visible reinforced chassis.)\n",
        "  13. Heavy_Truck – heavy‑duty >5 axles\n",
        "      • 5+_Axle_Heavy (very heavy loads, Extra-long chassis with multiple connected trailer sections or components. highly segmented and reinforced appearance.)\n",
        "  14. Construction_and_Industrial – specialized machinery\n",
        "      • Bulldozer (Heavy tracked vehicle with a wide, flat metal blade at the front. Compact and powerful-looking body.)\n",
        "      • Excavator (Tracked or wheeled vehicle with a long articulated arm ending in a bucket. Rotating cab and counterweight at the rear.)\n",
        "      • Crane (Tall and narrow profile with a boom or arm extending upward or outward. Often mounted on a truck or mobile base.)\n",
        "      • Forklift (Small, compact industrial vehicle with upright forks at the front and a protective overhead cage.)\n",
        "      • Dump_Truck (Large, boxy bed with visible rear hinge and hydraulic lift system. High ground clearance and chunky tires.)\n",
        "      • Mixer (Truck with a large, rotating drum mounted on the rear. Drum is tilted and often striped or textured.)\n",
        "  15. Tanker – liquid cargo trailers\n",
        "      • Fuel_Tanker (Smooth, cylindrical tank mounted on a truck or trailer. Usually has visible valves and side or rear hatches.)\n",
        "      • Chemical_Tanker (Cylindrical tank with additional external piping, valves, and often hazmat signage.)\n",
        "      • Gas_Tanker (Rounded or bullet-shaped tank with extra reinforcement bands. May have insulated or pressurized appearance.)\n",
        "  16. Container – intermodal shipping boxes\n",
        "      • 20ft_Container (Short rectangular metal box with corner fittings. Often marked with codes or shipping logos. Proportions clearly shorter than 40ft variant.)\n",
        "      • 40ft_Container (Longer rectangular metal box with similar structure to 20ft but visually stretched. Usually spans most of a trailer.)\n",
        "  17. Trailer – unpowered cargo carriers\n",
        "      • Flatbed_Trailer (Open, flat platform with no walls or roof.)\n",
        "      • Car_Carrier (Double-decked or angled trailer frame with visible ramps and slots for securing vehicles.)\n",
        "      • Lowboy_Trailer (Trailer with a distinct drop in deck height between the gooseneck and rear wheels. Allows transport of tall equipment.)\n",
        "      • Refrigerator_Trailer (Boxy, fully enclosed trailer with smooth sides and a visible refrigeration unit (often front-mounted).)\n",
        "\n",
        "  **Output JSON keys & descriptors:**\n",
        "      1. **Category**: The main vehicle type, chosen from the **Unified Vehicle Taxonomy**. Output \"Unclassified\" if the vehicle cannot be confidently classified.\n",
        "      2. **Subcategory**: The fine-grained vehicle type, chosen from the **Unified Vehicle Taxonomy**. If not applicable or visually discernible, output \"General\". Output \"Unclassified\" if the vehicle cannot be confidently classified.\n",
        "      3. **Number_of_wheels_visible**: An integer count of all wheels clearly visible in the image. Output 0 if the vehicle is Unclassified or no wheels are visible.\n",
        "      4. **Number_of_axles_inferred_from_number_of_wheels**: An integer representing the inferred number of axles based on the visible wheels and vehicle type. For passenger vehicles, 2 wheels visible on one side typically implies 2 axle. For trucks and heavy vehicles, infer axles based on visible wheel sets. Consider dual wheels as a single wheel set for axle inference. Output 0 if the vehicle is Unclassified or axles cannot be inferred.\n",
        "      5. **Is_taxi**: A boolean (true/false). True if clear commercial taxi markings are visible (e.g., rooftop sign, specific livery, visible taxi meter, company logo). False otherwise.\n",
        "      6. **Is_school_bus**: A boolean (true/false). True if the vehicle is clearly identifiable as a school bus (e.g., distinct yellow color, \"SCHOOL BUS\" signage, stop sign arm, specific seating design). False otherwise.\n",
        "      7. **Is_emergency_vehicle**: A boolean (true/false). True if clear emergency vehicle markings are visible (e.g., siren, light bar, official police/ambulance/fire insignia, distinct emergency vehicle colors). False otherwise.\n",
        "      8. **License_plate_visible**: A boolean (true/false). True if a license plate is clearly visible and readable in the image. False otherwise.\n",
        "\n",
        "  JSON OUTPUT FORMAT EXAMPLE:\n",
        "\n",
        "      {\n",
        "        \"Category\": \"...\",\n",
        "        \"Subcategory\": \"...\",\n",
        "        \"Number_of_wheels_visible\": 0,\n",
        "        \"Number_of_axles_inferred_from_number_of_wheels\": 0,\n",
        "        \"Is_taxi\": false,\n",
        "        \"Is_school_bus\": false,\n",
        "        \"Is_emergency_vehicle\": false,\n",
        "        \"License_plate_visible\": false\n",
        "      }\n",
        "\n",
        "  \"\"\""
      ]
    },
    {
      "cell_type": "markdown",
      "metadata": {
        "id": "XP0pKId0eFsa"
      },
      "source": [
        "# YOLO Detector Functions\n",
        "The code in this section is used for detecting the vehicles in the image in the first step."
      ]
    },
    {
      "cell_type": "code",
      "execution_count": null,
      "metadata": {
        "id": "-aiJugkQ4bV8"
      },
      "outputs": [],
      "source": [
        "import os\n",
        "import json\n",
        "import cv2\n",
        "import numpy as np\n",
        "from pathlib import Path\n",
        "import uuid\n",
        "from ultralytics import YOLO\n",
        "import base64\n",
        "\n",
        "#path to downloaded YOLOv5 model\n",
        "model_path = r'best_avc_v5.pt'"
      ]
    },
    {
      "cell_type": "code",
      "execution_count": null,
      "metadata": {
        "id": "pE8HTvFG4qPc"
      },
      "outputs": [],
      "source": [
        "def detect_vehicles_yolo_v5(image, model, conf_threshold=0.1):\n",
        "    \"\"\"\n",
        "    Detect vehicles in an image using YOLOv5 model.\n",
        "\n",
        "    Args:\n",
        "        image_filename (str): Name of the image file (for reference)\n",
        "        image (numpy.ndarray): Input image\n",
        "        model_path (str): Path to YOLOv5 model weights\n",
        "        conf_threshold (float): Confidence threshold for detections\n",
        "\n",
        "    Returns:\n",
        "        list: List of dictionaries containing detection information\n",
        "    \"\"\"\n",
        "\n",
        "    # Custom class names mapping\n",
        "    class_names = {\n",
        "        1: 'class1_lightVehicle',\n",
        "        2: 'class2_mediumVehicle',\n",
        "        3: 'class3_heavyVehicle',\n",
        "        4: 'class4_taxi',\n",
        "        5: 'class5_bus',\n",
        "        6: 'class_motocycle'\n",
        "    }\n",
        "\n",
        "    # Vehicle classes\n",
        "    vehicle_classes = [1, 2, 3, 4, 5, 6]  # we want the model to detect all the classes it has been trained on\n",
        "\n",
        "    # Get image dimensions\n",
        "    img_height, img_width = image.shape[:2]\n",
        "\n",
        "    # Initialize list to store vehicle detections\n",
        "    vehicle_detections = []\n",
        "\n",
        "    try:\n",
        "        # Run inference\n",
        "        results = model(image)\n",
        "\n",
        "        # Parse results\n",
        "        detections = results.pandas().xyxy[0]  # Get detections as pandas DataFrame\n",
        "\n",
        "        for _, detection in detections.iterrows():\n",
        "            class_id = int(detection['class'])\n",
        "            confidence = float(detection['confidence'])\n",
        "\n",
        "            # Skip if not a vehicle class or below confidence threshold\n",
        "            if class_id not in vehicle_classes or confidence < conf_threshold:\n",
        "                continue\n",
        "\n",
        "            # Get bounding box coordinates\n",
        "            x1 = int(detection['xmin'])\n",
        "            y1 = int(detection['ymin'])\n",
        "            x2 = int(detection['xmax'])\n",
        "            y2 = int(detection['ymax'])\n",
        "\n",
        "            # Ensure coordinates are within image bounds\n",
        "            x1 = max(0, x1)\n",
        "            y1 = max(0, y1)\n",
        "            x2 = min(img_width, x2)\n",
        "            y2 = min(img_height, y2)\n",
        "\n",
        "            # Skip if bounding box is invalid\n",
        "            if x2 <= x1 or y2 <= y1:\n",
        "                continue\n",
        "\n",
        "            # Get class name\n",
        "            class_name = class_names.get(class_id, f\"class_{class_id}\")\n",
        "\n",
        "            # Create a unique ID for this detection\n",
        "            detection_id = str(uuid.uuid4())\n",
        "\n",
        "            # Crop the vehicle from the image\n",
        "            vehicle_crop = image[y1:y2, x1:x2]\n",
        "\n",
        "            # Skip if crop is empty\n",
        "            if vehicle_crop.size == 0:\n",
        "                continue\n",
        "\n",
        "            # Convert crop to base64\n",
        "            base64_crop = numpy_to_base64(vehicle_crop)\n",
        "\n",
        "            # Store detection info\n",
        "            detection = {\n",
        "                \"detection_id\": detection_id,\n",
        "                \"bounding_box\": {\n",
        "                    \"x1\": x1,\n",
        "                    \"y1\": y1,\n",
        "                    \"x2\": x2,\n",
        "                    \"y2\": y2,\n",
        "                    \"width\": x2 - x1,\n",
        "                    \"height\": y2 - y1\n",
        "                },\n",
        "                \"class\": class_name,\n",
        "                \"class_id\": class_id,\n",
        "                \"confidence\": confidence,\n",
        "                \"crop_base64\": base64_crop\n",
        "            }\n",
        "\n",
        "            vehicle_detections.append(detection)\n",
        "\n",
        "    except Exception as e:\n",
        "        print(f\"Error during inference: {str(e)}\")\n",
        "        return []\n",
        "\n",
        "    return vehicle_detections\n",
        "\n",
        "#each cropped region is saved as a numpy array\n",
        "#so we need to convert to base64 to pass into VLM\n",
        "#the below function is called within the function above\n",
        "def numpy_to_base64(image):\n",
        "    \"\"\"\n",
        "    Convert a numpy array image to a base64 encoded string.\n",
        "\n",
        "    Args:\n",
        "        image (numpy.ndarray): Image as numpy array\n",
        "\n",
        "    Returns:\n",
        "        str: Base64 encoded string\n",
        "    \"\"\"\n",
        "    # Encode the numpy array to jpg format\n",
        "    success, encoded_img = cv2.imencode('.jpg', image)\n",
        "    if not success:\n",
        "        return None\n",
        "\n",
        "    # Convert the binary data to base64 string\n",
        "    base64_data = base64.b64encode(encoded_img.tobytes()).decode('utf-8')\n",
        "\n",
        "    # Format as data URL\n",
        "    return f\"data:image/jpeg;base64,{base64_data}\""
      ]
    },
    {
      "cell_type": "markdown",
      "metadata": {
        "id": "GKbUGzeC4voR"
      },
      "source": [
        "Function to combine YOLO regions with VLM inferences"
      ]
    },
    {
      "cell_type": "code",
      "execution_count": null,
      "metadata": {
        "id": "iJHnsw6E4zdd"
      },
      "outputs": [],
      "source": [
        "# function to combine metadata with the inference from the VLM and create a JSON file for every image\n",
        "def create_image_json(image_path, image, detections):\n",
        "    \"\"\"\n",
        "    Create a JSON object for an image with all its detections.\n",
        "\n",
        "    Args:\n",
        "        image_path (Path): Path to the image file\n",
        "        image (numpy.ndarray): The image array\n",
        "        detections (list): List of detection dictionaries with inference results\n",
        "\n",
        "    Returns:\n",
        "        dict: Image results as a JSON-serializable dictionary\n",
        "    \"\"\"\n",
        "    # Create the image results dictionary\n",
        "    image_results = {\n",
        "        \"image_filename\": image_path.name,\n",
        "        \"image_path\": str(image_path),\n",
        "        \"image_dimensions\": {\n",
        "            \"width\": image.shape[1],\n",
        "            \"height\": image.shape[0],\n",
        "            \"channels\": image.shape[2]\n",
        "        },\n",
        "        \"detection_count\": len(detections),\n",
        "        \"detections\": detections,\n",
        "    }\n",
        "\n",
        "    return image_results"
      ]
    },
    {
      "cell_type": "markdown",
      "metadata": {
        "id": "RpD6n5h4dDNr"
      },
      "source": [
        "# VLM Inference Functions"
      ]
    },
    {
      "cell_type": "markdown",
      "metadata": {
        "id": "OsxY5rRJdHed"
      },
      "source": [
        "### Base64 to PIL"
      ]
    },
    {
      "cell_type": "code",
      "execution_count": null,
      "metadata": {
        "id": "DLy_o6wKdGnN"
      },
      "outputs": [],
      "source": [
        "import base64\n",
        "from io import BytesIO\n",
        "from PIL import Image\n",
        "\n",
        "# Helper function to convert base64 string to PIL Image\n",
        "def base64_to_pil(base64_str):\n",
        "    # Remove the \"data:image/jpeg;base64,\" part if present\n",
        "    if \"base64,\" in base64_str:\n",
        "        base64_str = base64_str.split(\"base64,\")[1]\n",
        "    try:\n",
        "        image_data = base64.b64decode(base64_str)\n",
        "        image = Image.open(BytesIO(image_data))\n",
        "        return image\n",
        "    except Exception as e:\n",
        "        print(f\"Error decoding base64 string or opening image: {e}\")\n",
        "        # print(f\"Problematic base64 string (first 100 chars): {base64_str[:100]}\") # For debugging\n",
        "        return None"
      ]
    },
    {
      "cell_type": "markdown",
      "metadata": {
        "id": "64fVkflldSiw"
      },
      "source": [
        "### Batched VLM Inference"
      ]
    },
    {
      "cell_type": "code",
      "execution_count": null,
      "metadata": {
        "id": "0YHlD9kEdSPo"
      },
      "outputs": [],
      "source": [
        "def vlm_fine_grained_inference_batched(\n",
        "    imgs_base64_list,\n",
        "    system_prompt_text=system_prompt,\n",
        "    user_prompt_text=user_prompt,\n",
        "    img_names_list=None # Added for error reporting\n",
        "):\n",
        "    batch_size = len(imgs_base64_list)\n",
        "    if batch_size == 0:\n",
        "        return []\n",
        "\n",
        "    if img_names_list is None:\n",
        "        # Create dummy names if not provided, for consistent error reporting\n",
        "        img_names_list = [f\"image_in_batch_{i}\" for i in range(batch_size)]\n",
        "    elif len(img_names_list) != batch_size:\n",
        "        # Fallback if img_names_list is provided but has incorrect length\n",
        "        print(\"Warning: img_names_list length mismatch. Using generic names for error reporting.\")\n",
        "        img_names_list = [f\"image_in_batch_{i}\" for i in range(batch_size)]\n",
        "\n",
        "\n",
        "    batched_messages_for_template = []\n",
        "    pil_images_for_processor = []\n",
        "\n",
        "    for i, img_b64 in enumerate(imgs_base64_list):\n",
        "        pil_image = base64_to_pil(img_b64)\n",
        "        current_img_name = img_names_list[i] if img_names_list and i < len(img_names_list) else f\"unknown_image_at_batch_idx_{i}\"\n",
        "\n",
        "        if pil_image is None:\n",
        "            print(f\"Warning: Failed to convert base64 image to PIL for {current_img_name}. Skipping its VLM processing.\")\n",
        "            current_item_messages = [\n",
        "                {\"role\": \"system\", \"content\": f\"Error: Image {current_img_name} could not be processed.\"},\n",
        "                {\"role\": \"user\", \"content\": [{\"type\": \"text\", \"text\": f\"Error in image {current_img_name}.\"}]}\n",
        "            ]\n",
        "            pil_images_for_processor.append(None)\n",
        "        else:\n",
        "            pil_images_for_processor.append(pil_image)\n",
        "            current_item_messages = [\n",
        "                {\"role\": \"system\", \"content\": system_prompt_text},\n",
        "                {\n",
        "                    \"role\": \"user\",\n",
        "                    \"content\": [\n",
        "                        {\"type\": \"image\"},\n",
        "                        {\"type\": \"text\",  \"text\": user_prompt_text}\n",
        "                    ]\n",
        "                }\n",
        "            ]\n",
        "\n",
        "        text_for_item = processor.apply_chat_template(\n",
        "            current_item_messages, tokenize=False, add_generation_prompt=True\n",
        "        )\n",
        "        batched_messages_for_template.append(text_for_item)\n",
        "\n",
        "    valid_indices = [i for i, img in enumerate(pil_images_for_processor) if img is not None]\n",
        "    if not valid_indices:\n",
        "        print(\"Error: All images in batch failed to convert from base64.\")\n",
        "        error_msg_template = '{{\"error\": \"Image conversion failed for all items in batch. First image name in batch: {}\"}}'\n",
        "        first_img_name = img_names_list[0] if img_names_list else \"N/A\"\n",
        "        return [normalize_json5(error_msg_template.format(first_img_name), first_img_name)] * batch_size\n",
        "\n",
        "\n",
        "    final_pil_images = [pil_images_for_processor[i] for i in valid_indices]\n",
        "    final_texts = [batched_messages_for_template[i] for i in valid_indices]\n",
        "\n",
        "    if len(final_pil_images) != len(final_texts):\n",
        "        raise ValueError(\"Mismatch between number of valid images and texts after filtering.\")\n",
        "\n",
        "    if not final_pil_images:\n",
        "        error_msg_template = '{{\"error\": \"Image conversion failed for all items in batch. First image name in batch: {}\"}}'\n",
        "        first_img_name = img_names_list[0] if img_names_list else \"N/A\"\n",
        "        return [normalize_json5(error_msg_template.format(first_img_name), first_img_name)] * batch_size\n",
        "\n",
        "\n",
        "    inputs = processor(\n",
        "        text=final_texts,\n",
        "        images=final_pil_images,\n",
        "        videos=None,\n",
        "        padding=True,\n",
        "        return_tensors=\"pt\",\n",
        "    ).to(\"cuda\", dtype=torch.float16)\n",
        "\n",
        "    generated_ids = model.generate(\n",
        "        **inputs,\n",
        "        max_new_tokens=768,\n",
        "        do_sample=False\n",
        "    )\n",
        "\n",
        "    trimmed = [out_ids[len(in_ids):] for in_ids, out_ids in zip(inputs.input_ids, generated_ids)]\n",
        "\n",
        "    decoded_outputs_for_valid_items = processor.batch_decode(\n",
        "        trimmed, skip_special_tokens=True,\n",
        "        clean_up_tokenization_spaces=False\n",
        "    )\n",
        "\n",
        "    final_results_full_batch = [None] * batch_size\n",
        "    valid_output_idx = 0\n",
        "    for original_idx in range(batch_size):\n",
        "        current_img_name = img_names_list[original_idx] if img_names_list and original_idx < len(img_names_list) else f\"unknown_image_at_original_idx_{original_idx}\"\n",
        "        if original_idx in valid_indices:\n",
        "            if valid_output_idx < len(decoded_outputs_for_valid_items):\n",
        "                final_results_full_batch[original_idx] = normalize_json5(\n",
        "                    decoded_outputs_for_valid_items[valid_output_idx],\n",
        "                    current_img_name # Pass img_name here\n",
        "                )\n",
        "                valid_output_idx += 1\n",
        "            else:\n",
        "                final_results_full_batch[original_idx] = normalize_json5(\n",
        "                    '{\"error\": \"Internal processing error, missing VLM output.\"}',\n",
        "                    current_img_name # Pass img_name here\n",
        "                )\n",
        "        else:\n",
        "            final_results_full_batch[original_idx] = normalize_json5(\n",
        "                '{\"error\": \"Image conversion failed.\"}',\n",
        "                current_img_name # Pass img_name here\n",
        "            )\n",
        "\n",
        "    return final_results_full_batch"
      ]
    },
    {
      "cell_type": "markdown",
      "metadata": {
        "id": "RtHWuLN2426h"
      },
      "source": [
        "# Process Images (Putting detection and VLM inference together)"
      ]
    },
    {
      "cell_type": "code",
      "execution_count": null,
      "metadata": {
        "id": "Iol0Y1xCeKuo"
      },
      "outputs": [],
      "source": [
        "def process_images_true_batching(input_folder, output_folder, model=model_path, conf_threshold=0.1, vlm_batch_size=2):\n",
        "\n",
        "    # Load YOLOv5 model\n",
        "    try:\n",
        "        # Try with force_reload first\n",
        "        model = torch.hub.load('ultralytics/yolov5', 'custom', path=model_path, force_reload=True)\n",
        "        model.conf = conf_threshold\n",
        "    except Exception as e1:\n",
        "        try:\n",
        "            # Alternative: load directly with torch.load if custom model\n",
        "            model = torch.load(model_path, map_location='cpu')\n",
        "            if hasattr(model, 'conf'):\n",
        "                model.conf = conf_threshold\n",
        "        except Exception as e2:\n",
        "            print(f\"Error loading model with torch.hub: {str(e1)}\")\n",
        "            print(f\"Error loading model with torch.load: {str(e2)}\")\n",
        "            return []\n",
        "\n",
        "    os.makedirs(output_folder, exist_ok=True)\n",
        "    image_exts = ('.jpg', '.jpeg', '.png', '.bmp', '.tiff')\n",
        "    all_input_files = [p for ext in image_exts for p in Path(input_folder).glob(f'*{ext}')]\n",
        "    print(f\"Found {len(all_input_files)} images in '{input_folder}'\")\n",
        "    start_all_time = time.perf_counter()\n",
        "\n",
        "    all_images_data = {} # Stores {'img_path_str': {'img_cv2': img_obj_or_None, 'yolo_detections_with_vlm': []}}\n",
        "\n",
        "\n",
        "    # Stores items for VLM batching:\n",
        "    # [{'crop_b64': b64_str, 'img_name_for_vlm': \"original_image_name_crop_0\", 'image_path_str': img_path, 'original_det_idx': det_idx, 'yolo_det_obj': yolo_det_dict_without_crop}]\n",
        "    crops_to_vlm_batch = []\n",
        "\n",
        "    processed_image_count = 0\n",
        "    total_yolo_detections_count = 0\n",
        "    total_vlm_inferences_done = 0\n",
        "\n",
        "    # --- Stage 1: Iterate images, run YOLO, collect crops ---\n",
        "    for img_path in tqdm(all_input_files, desc=\"YOLO & Crop Collection\", unit=\"img\"):\n",
        "        img_path_str = str(img_path)\n",
        "        img_name = img_path.name # For VLM error reporting\n",
        "\n",
        "        img = cv2.imread(img_path_str)\n",
        "        if img is None:\n",
        "            tqdm.write(f\"[SKIP] Could not read '{img_name}'\")\n",
        "            all_images_data[img_path_str] = {'img_cv2': None, 'yolo_detections_with_vlm': []}\n",
        "            continue\n",
        "\n",
        "        all_images_data[img_path_str] = {'img_cv2': img, 'yolo_detections_with_vlm': []}\n",
        "\n",
        "        yolo_detections_current_image = detect_vehicles_yolo_v5(img, model, conf_threshold=0.1)\n",
        "        total_yolo_detections_count += len(yolo_detections_current_image)\n",
        "\n",
        "        for det_idx, yolo_det_obj in enumerate(yolo_detections_current_image):\n",
        "            crop_b64 = yolo_det_obj.pop(\"crop_base64\", None)\n",
        "            if crop_b64:\n",
        "                crops_to_vlm_batch.append({\n",
        "                    'crop_b64': crop_b64,\n",
        "                    'img_name_for_vlm': f\"{img_name}_crop_{det_idx}\", # Specific name for this crop\n",
        "                    'image_path_str': img_path_str,\n",
        "                    'original_det_idx': det_idx,\n",
        "                    'yolo_det_obj': yolo_det_obj\n",
        "                })\n",
        "\n",
        "        # --- Stage 2: Perform VLM inference in batches ---\n",
        "        if len(crops_to_vlm_batch) >= vlm_batch_size:\n",
        "            tqdm.write(f\"Processing VLM batch of {len(crops_to_vlm_batch)} crops...\")\n",
        "\n",
        "            b64_list_for_vlm = [item['crop_b64'] for item in crops_to_vlm_batch]\n",
        "            # Pass the specific names for VLM error reporting\n",
        "            img_names_for_vlm_batch = [item['img_name_for_vlm'] for item in crops_to_vlm_batch]\n",
        "            vlm_results = vlm_fine_grained_inference_batched(b64_list_for_vlm, img_names_list=img_names_for_vlm_batch)\n",
        "            total_vlm_inferences_done += len(vlm_results)\n",
        "\n",
        "            for i, vlm_output in enumerate(vlm_results):\n",
        "                item_info = crops_to_vlm_batch[i]\n",
        "                item_info['yolo_det_obj']['vlm_fine_grained_inference'] = vlm_output\n",
        "                all_images_data[item_info['image_path_str']]['yolo_detections_with_vlm'].append(item_info['yolo_det_obj'])\n",
        "\n",
        "            crops_to_vlm_batch = []\n",
        "\n",
        "    # Process any remaining crops\n",
        "    if crops_to_vlm_batch:\n",
        "        tqdm.write(f\"Processing final VLM batch of {len(crops_to_vlm_batch)} crops...\")\n",
        "        b64_list_for_vlm = [item['crop_b64'] for item in crops_to_vlm_batch]\n",
        "        img_names_for_vlm_batch = [item['img_name_for_vlm'] for item in crops_to_vlm_batch]\n",
        "        vlm_results = vlm_fine_grained_inference_batched(b64_list_for_vlm, img_names_list=img_names_for_vlm_batch)\n",
        "        total_vlm_inferences_done += len(vlm_results)\n",
        "\n",
        "        for i, vlm_output in enumerate(vlm_results):\n",
        "            item_info = crops_to_vlm_batch[i]\n",
        "            item_info['yolo_det_obj']['vlm_fine_grained_inference'] = vlm_output\n",
        "            all_images_data[item_info['image_path_str']]['yolo_detections_with_vlm'].append(item_info['yolo_det_obj'])\n",
        "        crops_to_vlm_batch = []\n",
        "\n",
        "    # --- Stage 3: Create JSON output files ---\n",
        "    for img_path_str, data in tqdm(all_images_data.items(), desc=\"Creating JSON files\", unit=\"file\"):\n",
        "        img_p = Path(img_path_str)\n",
        "        image_cv2_obj = data['img_cv2']\n",
        "\n",
        "        if image_cv2_obj is None:\n",
        "            img_json_data = create_image_json(img_p, np.zeros((100,100,3), dtype=np.uint8), [])\n",
        "        else:\n",
        "            img_json_data = create_image_json(img_p, image_cv2_obj, data['yolo_detections_with_vlm'])\n",
        "\n",
        "        out_file = Path(output_folder) / f\"{img_p.stem}_detections.json\"\n",
        "        with open(out_file, 'w') as f:\n",
        "            json.dump(img_json_data, f, indent=2)\n",
        "        processed_image_count += 1\n",
        "\n",
        "    end_all_time = time.perf_counter()\n",
        "    total_duration = end_all_time - start_all_time\n",
        "    avg_time = total_duration / len(all_input_files) if all_input_files else 0\n",
        "\n",
        "    print(f\"\\n--- Processing Summary ---\")\n",
        "    print(f\"Total images processed: {processed_image_count} / {len(all_input_files)}\")\n",
        "    print(f\"Total YOLO detections found: {total_yolo_detections_count}\")\n",
        "    print(f\"Total VLM inferences performed: {total_vlm_inferences_done}\")\n",
        "    print(f\"Total pipeline time: {total_duration:.2f} seconds\")\n",
        "    print(f\"Average time per image: {avg_time:.2f} seconds\")\n"
      ]
    },
    {
      "cell_type": "markdown",
      "metadata": {
        "id": "TJOry91j5lOK"
      },
      "source": [
        "# Inference"
      ]
    },
    {
      "cell_type": "code",
      "execution_count": null,
      "metadata": {
        "id": "5CPkfVIS5mH6",
        "colab": {
          "base_uri": "https://localhost:8080/"
        },
        "outputId": "149c9e5d-97d4-4e50-d0c4-eb3a13fdd81e"
      },
      "outputs": [
        {
          "output_type": "stream",
          "name": "stderr",
          "text": [
            "Downloading: \"https://github.com/ultralytics/yolov5/zipball/master\" to /root/.cache/torch/hub/master.zip\n",
            "YOLOv5 🚀 2025-8-3 Python-3.11.13 torch-2.6.0+cu124 CUDA:0 (Tesla T4, 15095MiB)\n",
            "\n",
            "Fusing layers... \n",
            "Model summary: 157 layers, 7039792 parameters, 0 gradients, 15.8 GFLOPs\n",
            "Adding AutoShape... \n"
          ]
        },
        {
          "output_type": "stream",
          "name": "stdout",
          "text": [
            "Found 3 images in 'input_images/images'\n"
          ]
        },
        {
          "output_type": "stream",
          "name": "stderr",
          "text": [
            "YOLO & Crop Collection:   0%|          | 0/3 [00:00<?, ?img/s]The following generation flags are not valid and may be ignored: ['temperature']. Set `TRANSFORMERS_VERBOSITY=info` for more details.\n"
          ]
        },
        {
          "output_type": "stream",
          "name": "stdout",
          "text": [
            "Processing VLM batch of 1 crops...\n"
          ]
        },
        {
          "output_type": "stream",
          "name": "stderr",
          "text": [
            "YOLO & Crop Collection:  33%|███▎      | 1/3 [00:22<00:44, 22.13s/img]The following generation flags are not valid and may be ignored: ['temperature']. Set `TRANSFORMERS_VERBOSITY=info` for more details.\n"
          ]
        },
        {
          "output_type": "stream",
          "name": "stdout",
          "text": [
            "Processing VLM batch of 2 crops...\n"
          ]
        },
        {
          "output_type": "stream",
          "name": "stderr",
          "text": [
            "YOLO & Crop Collection:  67%|██████▋   | 2/3 [01:13<00:39, 39.44s/img]"
          ]
        },
        {
          "output_type": "stream",
          "name": "stdout",
          "text": [
            "normalize_json5: failed to parse input as JSON5 for image: 28313905.jpg_crop_0.\n",
            "Error message: <string>:1 Unexpected end of input at column 2\n",
            "Faulty string content:\n",
            "{\n",
            "Processing VLM batch of 2 crops...\n"
          ]
        },
        {
          "output_type": "stream",
          "name": "stderr",
          "text": [
            "The following generation flags are not valid and may be ignored: ['temperature']. Set `TRANSFORMERS_VERBOSITY=info` for more details.\n",
            "YOLO & Crop Collection: 100%|██████████| 3/3 [02:12<00:00, 44.30s/img]\n"
          ]
        },
        {
          "output_type": "stream",
          "name": "stdout",
          "text": [
            "normalize_json5: failed to parse input as JSON5 for image: 28308283.jpg_crop_0.\n",
            "Error message: <string>:1 Unexpected end of input at column 2\n",
            "Faulty string content:\n",
            "{\n"
          ]
        },
        {
          "output_type": "stream",
          "name": "stderr",
          "text": [
            "Creating JSON files: 100%|██████████| 3/3 [00:00<00:00, 2510.06file/s]"
          ]
        },
        {
          "output_type": "stream",
          "name": "stdout",
          "text": [
            "\n",
            "--- Processing Summary ---\n",
            "Total images processed: 3 / 3\n",
            "Total YOLO detections found: 5\n",
            "Total VLM inferences performed: 5\n",
            "Total pipeline time: 132.92 seconds\n",
            "Average time per image: 44.31 seconds\n"
          ]
        },
        {
          "output_type": "stream",
          "name": "stderr",
          "text": [
            "\n"
          ]
        }
      ],
      "source": [
        "input_folder_vlm = \"input_images/images\"\n",
        "json_output_folder = f\"output_json\"\n",
        "\n",
        "\n",
        "VLM_BATCH_SIZE = 1\n",
        "process_images_true_batching(input_folder_vlm, json_output_folder, vlm_batch_size=VLM_BATCH_SIZE)"
      ]
    },
    {
      "cell_type": "code",
      "source": [],
      "metadata": {
        "id": "prJ_VO03JHnR"
      },
      "execution_count": null,
      "outputs": []
    }
  ],
  "metadata": {
    "accelerator": "GPU",
    "colab": {
      "gpuType": "T4",
      "provenance": []
    },
    "kernelspec": {
      "display_name": "Python 3",
      "name": "python3"
    },
    "language_info": {
      "codemirror_mode": {
        "name": "ipython",
        "version": 3
      },
      "file_extension": ".py",
      "mimetype": "text/x-python",
      "name": "python",
      "nbconvert_exporter": "python",
      "pygments_lexer": "ipython3",
      "version": "3.11.11"
    }
  },
  "nbformat": 4,
  "nbformat_minor": 0
}